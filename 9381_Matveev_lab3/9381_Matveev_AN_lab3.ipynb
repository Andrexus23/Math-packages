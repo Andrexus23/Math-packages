{
 "cells": [
  {
   "cell_type": "markdown",
   "metadata": {},
   "source": []
  },
  {
   "cell_type": "markdown",
   "metadata": {
    "tags": []
   },
   "source": [
    "## Лабораторная работа №3: Практическое применение библиотеки символьных вычислений Python (SymPy) для решения задач дискретной математики и математической логики\n",
    "##### Матвеев Андрей, группа 9381"
   ]
  },
  {
   "cell_type": "markdown",
   "metadata": {},
   "source": [
    " ### Вариант 9. \n",
    " #### DM Вар. 9,ML Вар. 9"
   ]
  },
  {
   "cell_type": "markdown",
   "metadata": {},
   "source": [
    "## 1. Решить диофантово уравнение."
   ]
  },
  {
   "cell_type": "markdown",
   "metadata": {},
   "source": [
    "${1938x - 1921y=-102}$"
   ]
  },
  {
   "cell_type": "code",
   "execution_count": 19,
   "metadata": {},
   "outputs": [],
   "source": [
    "from sympy.solvers.diophantine import diop_solve\n",
    "from sympy.abc import x, y"
   ]
  },
  {
   "cell_type": "code",
   "execution_count": 20,
   "metadata": {},
   "outputs": [
    {
     "data": {
      "text/latex": [
       "$\\displaystyle \\left( 113 t_{0} - 6, \\  114 t_{0} - 6\\right)$"
      ],
      "text/plain": [
       "(113*t_0 - 6, 114*t_0 - 6)"
      ]
     },
     "execution_count": 20,
     "metadata": {},
     "output_type": "execute_result"
    }
   ],
   "source": [
    "diop_solve(1938 * x - 1921 * y + 102)"
   ]
  },
  {
   "cell_type": "markdown",
   "metadata": {},
   "source": [
    "## 2. Имея открытую часть ключа RSA найти соответствующую закрытую часть и расшифровать кодированное слово."
   ]
  },
  {
   "cell_type": "markdown",
   "metadata": {},
   "source": [
    "${e = 9, m = 46}$"
   ]
  },
  {
   "cell_type": "code",
   "execution_count": 21,
   "metadata": {},
   "outputs": [],
   "source": [
    "from sympy.crypto.crypto import decipher_rsa\n",
    "from sympy.crypto.crypto import rsa_private_key"
   ]
  },
  {
   "cell_type": "code",
   "execution_count": 22,
   "metadata": {},
   "outputs": [
    {
     "name": "stdout",
     "output_type": "stream",
     "text": [
      "Закрытый ключ: (46, 5)\n",
      "Зашифрованное сообщение: ЛРКТ [13, 18, 12, 20]\n",
      "Расшифрованное сообщение: ЩШРИ [27, 26, 18, 10]\n"
     ]
    }
   ],
   "source": [
    "letters = [\"А\", \"Б\", \"В\", \"Г\", \"Д\", \"Е\",\n",
    "            \"Ж\", \"З\", \"И\", \"Й\", \"К\", \"Л\",\n",
    "            \"М\", \"Н\", \"О\", \"П\", \"Р\", \"С\", \n",
    "            \"Т\", \"У\", \"Ф\", \"Х\", \"Ц\", \"Ч\",\n",
    "            \"Ш\", \"Щ\", \"Ы\", \"Ь\", \"Э\", \"Ю\",\n",
    "            \"Я\"]\n",
    "\n",
    "e = 9\n",
    "m = 46\n",
    "\n",
    "privateKey = rsa_private_key(m, e)\n",
    "print(\"Закрытый ключ:\", privateKey)\n",
    "\n",
    "encrypted_mes = [13, 18, 12, 20]\n",
    "print(\"Зашифрованное сообщение:\", \n",
    "      \"\".join([letters[ch - 2] for ch in encrypted_mes]),\n",
    "     encrypted_mes)\n",
    "decrypted_mes = [decipher_rsa(ch, privateKey) for ch in encrypted_mes]\n",
    "print(\"Расшифрованное сообщение:\", \n",
    "      \"\".join([letters[ch - 2] for ch in decrypted_mes]),\n",
    "     decrypted_mes)"
   ]
  },
  {
   "cell_type": "markdown",
   "metadata": {},
   "source": [
    "## 3. Записать в формате ДНФ и КНФ булеву функцию, заданную своим аналитическим выражением."
   ]
  },
  {
   "cell_type": "markdown",
   "metadata": {},
   "source": [
    "${f(x, y, z) = ((z \\ xor \\ x)z) \\lor ((y \\ xor \\ x)(x \\lor y))}$"
   ]
  },
  {
   "cell_type": "code",
   "execution_count": 23,
   "metadata": {},
   "outputs": [],
   "source": [
    "from sympy.logic.boolalg import to_dnf, to_cnf, Xor\n",
    "from sympy.abc import x, y, z"
   ]
  },
  {
   "cell_type": "code",
   "execution_count": 24,
   "metadata": {},
   "outputs": [],
   "source": [
    "f = ((Xor(z,x) & z) | (Xor(y,x))&(x | y)) "
   ]
  },
  {
   "cell_type": "code",
   "execution_count": 25,
   "metadata": {},
   "outputs": [
    {
     "name": "stdout",
     "output_type": "stream",
     "text": [
      "ДНФ:\n"
     ]
    },
    {
     "data": {
      "text/latex": [
       "$\\displaystyle \\left(x \\wedge \\neg y\\right) \\vee \\left(y \\wedge \\neg x\\right) \\vee \\left(z \\wedge \\neg x\\right)$"
      ],
      "text/plain": [
       "(x & ~y) | (y & ~x) | (z & ~x)"
      ]
     },
     "execution_count": 25,
     "metadata": {},
     "output_type": "execute_result"
    }
   ],
   "source": [
    "print(\"ДНФ:\")\n",
    "to_dnf(f, True)"
   ]
  },
  {
   "cell_type": "code",
   "execution_count": 26,
   "metadata": {},
   "outputs": [
    {
     "name": "stdout",
     "output_type": "stream",
     "text": [
      "КНФ:\n"
     ]
    },
    {
     "data": {
      "text/latex": [
       "$\\displaystyle \\left(\\neg x \\vee \\neg y\\right) \\wedge \\left(x \\vee y \\vee z\\right)$"
      ],
      "text/plain": [
       "(x | y | z) & (~x | ~y)"
      ]
     },
     "execution_count": 26,
     "metadata": {},
     "output_type": "execute_result"
    }
   ],
   "source": [
    "print(\"КНФ:\")\n",
    "to_cnf(f, True)"
   ]
  },
  {
   "cell_type": "markdown",
   "metadata": {},
   "source": [
    "Вывод: изучена библиотека sympy."
   ]
  }
 ],
 "metadata": {
  "kernelspec": {
   "display_name": "Python 3 (ipykernel)",
   "language": "python",
   "name": "python3"
  },
  "language_info": {
   "codemirror_mode": {
    "name": "ipython",
    "version": 3
   },
   "file_extension": ".py",
   "mimetype": "text/x-python",
   "name": "python",
   "nbconvert_exporter": "python",
   "pygments_lexer": "ipython3",
   "version": "3.8.10"
  }
 },
 "nbformat": 4,
 "nbformat_minor": 4
}
